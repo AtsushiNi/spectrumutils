{
 "cells": [
  {
   "cell_type": "markdown",
   "id": "bbed50dc",
   "metadata": {},
   "source": [
    "# 概要\n",
    "fulcher-α発光線の発光強度からボルツマンプロットを作成する"
   ]
  },
  {
   "cell_type": "code",
   "execution_count": 1,
   "id": "e390c04c",
   "metadata": {},
   "outputs": [
    {
     "name": "stdout",
     "output_type": "stream",
     "text": [
      "Collecting git+https://github.com/AtsushiNi/spectrumutils\n",
      "  Cloning https://github.com/AtsushiNi/spectrumutils to /private/var/folders/ds/x3jwf2s54c3190fl2p4lrn3w0000gn/T/pip-req-build-7eq2eytl\n",
      "  Running command git clone --filter=blob:none -q https://github.com/AtsushiNi/spectrumutils /private/var/folders/ds/x3jwf2s54c3190fl2p4lrn3w0000gn/T/pip-req-build-7eq2eytl\n",
      "  Resolved https://github.com/AtsushiNi/spectrumutils to commit 6566e68e9ccfd0892613f69d5f4a2436958f55d3\n",
      "  Installing build dependencies ... \u001b[?25ldone\n",
      "\u001b[?25h  Getting requirements to build wheel ... \u001b[?25ldone\n",
      "\u001b[?25h  Preparing metadata (pyproject.toml) ... \u001b[?25ldone\n",
      "\u001b[?25hRequirement already satisfied: netcdf4 in /Library/Frameworks/Python.framework/Versions/3.9/lib/python3.9/site-packages (from spectrumutils==0.0.1) (1.5.8)\n",
      "Requirement already satisfied: lmfit in /Library/Frameworks/Python.framework/Versions/3.9/lib/python3.9/site-packages (from spectrumutils==0.0.1) (1.0.3)\n",
      "Requirement already satisfied: xarray in /Library/Frameworks/Python.framework/Versions/3.9/lib/python3.9/site-packages (from spectrumutils==0.0.1) (2022.3.0)\n",
      "Requirement already satisfied: matplotlib in /Library/Frameworks/Python.framework/Versions/3.9/lib/python3.9/site-packages (from spectrumutils==0.0.1) (3.5.1)\n",
      "Requirement already satisfied: numpy in /Library/Frameworks/Python.framework/Versions/3.9/lib/python3.9/site-packages (from spectrumutils==0.0.1) (1.21.5)\n",
      "Requirement already satisfied: peakutils in /Library/Frameworks/Python.framework/Versions/3.9/lib/python3.9/site-packages (from spectrumutils==0.0.1) (1.3.3)\n",
      "Requirement already satisfied: importlib-resources in /Library/Frameworks/Python.framework/Versions/3.9/lib/python3.9/site-packages (from spectrumutils==0.0.1) (5.4.0)\n",
      "Requirement already satisfied: zipp>=3.1.0 in /Library/Frameworks/Python.framework/Versions/3.9/lib/python3.9/site-packages (from importlib-resources->spectrumutils==0.0.1) (3.7.0)\n",
      "Requirement already satisfied: asteval>=0.9.22 in /Library/Frameworks/Python.framework/Versions/3.9/lib/python3.9/site-packages (from lmfit->spectrumutils==0.0.1) (0.9.26)\n",
      "Requirement already satisfied: scipy>=1.4 in /Library/Frameworks/Python.framework/Versions/3.9/lib/python3.9/site-packages (from lmfit->spectrumutils==0.0.1) (1.8.0)\n",
      "Requirement already satisfied: uncertainties>=3.0.1 in /Library/Frameworks/Python.framework/Versions/3.9/lib/python3.9/site-packages (from lmfit->spectrumutils==0.0.1) (3.1.6)\n",
      "Requirement already satisfied: pillow>=6.2.0 in /Library/Frameworks/Python.framework/Versions/3.9/lib/python3.9/site-packages (from matplotlib->spectrumutils==0.0.1) (8.4.0)\n",
      "Requirement already satisfied: cycler>=0.10 in /Library/Frameworks/Python.framework/Versions/3.9/lib/python3.9/site-packages (from matplotlib->spectrumutils==0.0.1) (0.11.0)\n",
      "Requirement already satisfied: pyparsing>=2.2.1 in /Library/Frameworks/Python.framework/Versions/3.9/lib/python3.9/site-packages (from matplotlib->spectrumutils==0.0.1) (3.0.6)\n",
      "Requirement already satisfied: packaging>=20.0 in /Library/Frameworks/Python.framework/Versions/3.9/lib/python3.9/site-packages (from matplotlib->spectrumutils==0.0.1) (21.3)\n",
      "Requirement already satisfied: python-dateutil>=2.7 in /Library/Frameworks/Python.framework/Versions/3.9/lib/python3.9/site-packages (from matplotlib->spectrumutils==0.0.1) (2.8.1)\n",
      "Requirement already satisfied: fonttools>=4.22.0 in /Library/Frameworks/Python.framework/Versions/3.9/lib/python3.9/site-packages (from matplotlib->spectrumutils==0.0.1) (4.28.5)\n",
      "Requirement already satisfied: kiwisolver>=1.0.1 in /Library/Frameworks/Python.framework/Versions/3.9/lib/python3.9/site-packages (from matplotlib->spectrumutils==0.0.1) (1.3.2)\n",
      "Requirement already satisfied: cftime in /Library/Frameworks/Python.framework/Versions/3.9/lib/python3.9/site-packages (from netcdf4->spectrumutils==0.0.1) (1.6.0)\n",
      "Requirement already satisfied: pandas>=1.1 in /Library/Frameworks/Python.framework/Versions/3.9/lib/python3.9/site-packages (from xarray->spectrumutils==0.0.1) (1.4.1)\n",
      "Requirement already satisfied: pytz>=2020.1 in /Library/Frameworks/Python.framework/Versions/3.9/lib/python3.9/site-packages (from pandas>=1.1->xarray->spectrumutils==0.0.1) (2021.3)\n",
      "Requirement already satisfied: six>=1.5 in /Library/Frameworks/Python.framework/Versions/3.9/lib/python3.9/site-packages (from python-dateutil>=2.7->matplotlib->spectrumutils==0.0.1) (1.15.0)\n",
      "Requirement already satisfied: future in /Library/Frameworks/Python.framework/Versions/3.9/lib/python3.9/site-packages (from uncertainties>=3.0.1->lmfit->spectrumutils==0.0.1) (0.18.2)\n",
      "\u001b[33mWARNING: You are using pip version 21.3.1; however, version 22.0.4 is available.\n",
      "You should consider upgrading via the '/Library/Frameworks/Python.framework/Versions/3.9/bin/python3 -m pip install --upgrade pip' command.\u001b[0m\n"
     ]
    }
   ],
   "source": [
    "!pip install git+https://github.com/AtsushiNi/spectrumutils\n",
    "\n",
    "from spectrumutils import fulcher\n",
    "import numpy as np\n",
    "import matplotlib.pyplot as plt\n",
    "import pprint"
   ]
  },
  {
   "cell_type": "markdown",
   "id": "040d2441",
   "metadata": {},
   "source": [
    "# サンプルデータ"
   ]
  },
  {
   "cell_type": "code",
   "execution_count": 2,
   "id": "618dd394",
   "metadata": {},
   "outputs": [
    {
     "data": {
      "text/plain": [
       "array([64128.44764431, 19664.65611872, 52452.79643011,  4723.19285588,\n",
       "        7089.48411502,  1341.16166862,  1991.45554244,   176.68250128,\n",
       "           0.        ,     0.        ,   480.25110246,   234.82851451,\n",
       "           0.        ,     0.        ,   306.97386897,    74.99286504,\n",
       "         115.25340179,     0.        ,     0.        ,     0.        ])"
      ]
     },
     "execution_count": 2,
     "metadata": {},
     "output_type": "execute_result"
    }
   ],
   "source": [
    "# fulcher-α発光線(v=0, N=1~20)の発光強度データ\n",
    "# 計測できなかったデータは0\n",
    "data = np.load('data/sample_amplitudes.npy')[0]\n",
    "data"
   ]
  },
  {
   "cell_type": "code",
   "execution_count": 3,
   "id": "b4316f39",
   "metadata": {},
   "outputs": [
    {
     "name": "stdout",
     "output_type": "stream",
     "text": [
      "[{'N_numbers': array([ 1,  2,  3,  4,  5,  6,  7,  8, 11, 12, 15, 16, 17]),\n",
      "  'population': array([9.34766758e+14, 5.17828713e+14, 3.30649961e+14, 6.99716159e+13,\n",
      "       2.88981648e+13, 1.40237347e+13, 6.08883146e+12, 1.44755025e+12,\n",
      "       1.01954822e+12, 1.40215542e+12, 5.24756496e+11, 3.69642355e+11,\n",
      "       1.82824082e+11]),\n",
      "  'rotation_energies': array([0.00732827, 0.02192798, 0.04368546, 0.07243021, 0.10793489,\n",
      "       0.14991533, 0.19803052, 0.25188262, 0.4430295 , 0.51471417,\n",
      "       0.74412717, 0.82273223, 0.90093611])}]\n"
     ]
    },
    {
     "data": {
      "image/png": "[encoded data removed]",
      "text/plain": [
       "<Figure size 432x288 with 1 Axes>"
      ]
     },
     "metadata": {
      "needs_background": "light"
     },
     "output_type": "display_data"
    }
   ],
   "source": [
    "#fulcher.boltzmannplot([data_v0, data_v1,data_v2], v=[0,1,2])\n",
    "result = fulcher.boltzmannplot([data], v=[0])\n",
    "pprint.pprint(result)"
   ]
  },
  {
   "cell_type": "code",
   "execution_count": null,
   "id": "368c9600",
   "metadata": {},
   "outputs": [],
   "source": []
  }
 ],
 "metadata": {
  "kernelspec": {
   "display_name": "Python 3",
   "language": "python",
   "name": "python3"
  },
  "language_info": {
   "codemirror_mode": {
    "name": "ipython",
    "version": 3
   },
   "file_extension": ".py",
   "mimetype": "text/x-python",
   "name": "python",
   "nbconvert_exporter": "python",
   "pygments_lexer": "ipython3",
   "version": "3.9.1"
  }
 },
 "nbformat": 4,
 "nbformat_minor": 5
}
